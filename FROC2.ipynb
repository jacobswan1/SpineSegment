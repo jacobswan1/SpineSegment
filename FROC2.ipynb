{
 "cells": [
  {
   "cell_type": "code",
   "execution_count": 2,
   "metadata": {
    "collapsed": false
   },
   "outputs": [
    {
     "name": "stderr",
     "output_type": "stream",
     "text": [
      "Using TensorFlow backend.\n"
     ]
    }
   ],
   "source": [
    "import cv2\n",
    "import numpy as np\n",
    "import os \n",
    "import dicom\n",
    "import data\n",
    "import copy\n",
    "from keras.models import Sequential\n",
    "from keras.layers import Dense, Dropout, Activation, Flatten\n",
    "from keras.layers import Convolution2D, MaxPooling2D\n",
    "from keras.utils import np_utils\n",
    "from scipy import ndimage\n",
    "from keras.optimizers import SGD\n",
    "from keras.utils import np_utils\n",
    "import matplotlib.pyplot as plt\n",
    "from skimage.morphology import remove_small_objects\n",
    "from scipy import ndimage\n",
    "from sklearn import metrics,metrics\n",
    "from scipy.ndimage.measurements import label\n",
    "%matplotlib inline"
   ]
  },
  {
   "cell_type": "code",
   "execution_count": 2,
   "metadata": {
    "collapsed": true
   },
   "outputs": [],
   "source": [
    "def getPara(predict, true, threshold):\n",
    "    (TP, FP, TN, FN, class_lable) = perf_measure(true, predict, threshold)\n",
    "    if((TP + FN)== 0):\n",
    "        TPR = 0\n",
    "    else:\n",
    "        TPR = np.float(TP)/(TP + FN)\n",
    "    \n",
    "    class_lable = class_lable.astype(bool).reshape(264,132)\n",
    "    true = predict.astype(bool).reshape(264,132)\n",
    "    \n",
    "    predict2 = remove_small_objects(class_lable, 64,in_place=False)\n",
    "    true2 = remove_small_objects(true, 64,in_place=False)\n",
    "    labeled_array1, num_features1 = label(predict2)\n",
    "    labeled_array2, num_features2 = label(true2)\n",
    "    FP_num = num_features1 - num_features2\n",
    "    return TPR, FP_num"
   ]
  },
  {
   "cell_type": "code",
   "execution_count": 3,
   "metadata": {
    "collapsed": true
   },
   "outputs": [],
   "source": [
    "def perf_measure(y_actual, predict, threshold):\n",
    "    TP = 0\n",
    "    FP = 0\n",
    "    TN = 0\n",
    "    FN = 0\n",
    "    predict = transfer_prob(predict, threshold)\n",
    "    for i in range(len(predict)): \n",
    "        if y_actual[i]==predict[i]==1:\n",
    "           TP += 1\n",
    "    for i in range(len(predict)): \n",
    "        if y_actual[i]==1 and y_actual[i]!=predict[i]:\n",
    "           FP += 1\n",
    "    for i in range(len(predict)): \n",
    "        if y_actual[i]==predict[i]==0:\n",
    "           TN += 1\n",
    "    for i in range(len(predict)): \n",
    "        if y_actual[i]==0 and y_actual[i]!=predict[i]:\n",
    "           FN += 1\n",
    "\n",
    "    return(TP, FP, TN, FN, predict)"
   ]
  },
  {
   "cell_type": "code",
   "execution_count": 4,
   "metadata": {
    "collapsed": true
   },
   "outputs": [],
   "source": [
    "def transfer_prob(y_score, threshold):\n",
    "    y_result = []\n",
    "    for i in range(len(y_score)):\n",
    "        if y_score[i] >= threshold:\n",
    "            y_result.append(1)\n",
    "        else:\n",
    "            y_result.append(0)\n",
    "    return np.asarray(y_result)"
   ]
  },
  {
   "cell_type": "code",
   "execution_count": 16,
   "metadata": {
    "collapsed": false
   },
   "outputs": [
    {
     "data": {
      "image/png": "[encoded data removed]",
      "text/plain": [
       "<matplotlib.figure.Figure at 0x11404fb50>"
      ]
     },
     "metadata": {},
     "output_type": "display_data"
    }
   ],
   "source": [
    "\n",
    "TPR_list= np.load('./resolution/TPR_list_reso.npy') \n",
    "FP_num_list = np.load('./resolution/FP_num_list_reso.npy')\n",
    "\n",
    "#TPR_list1= np.load('TPR_list_pure_good.npy') \n",
    "#FP_num_list1 = np.load('FP_num_list_pure_good.npy')\n",
    "\n",
    "#TPR_list2= np.load('TPR_list_160.npy') \n",
    "#FP_num_list2 = np.load('FP_num_list_160.npy')\n",
    "\n",
    "# false_positive_rate, true_positive_rate, threshol = metrics.roc_curve(y_true.reshape(y_true.shape[0]*y_true.shape[1]), y_score.reshape(y_score.shape[0]*y_score.shape[1]))\n",
    "# thresholds = []\n",
    "# count = 1\n",
    "# for i in range(threshol.shape[0]):\n",
    "#     if(threshol[i] > 0.01 and count%100 == 0):\n",
    "#         thresholds.append(threshol[i])\n",
    "#     count += 1\n",
    "# thresholds = np.asarray(thresholds)\n",
    "plt.gca().set_color_cycle(['red', 'green', 'blue'])\n",
    "plt.title('Free response Receiver Operating Characteristic')\n",
    "plt.plot((FP_num_list), (TPR_list), marker = 'o')\n",
    "# plt.plot((FP_num_list1), (TPR_list1), marker = 'o')\n",
    "# plt.plot((FP_num_list2), (TPR_list2), marker = 'o')\n",
    "\n",
    "plt.ylim([ 0.3,0.85])\n",
    "plt.xlim([-0.1,6])\n",
    "plt.legend(loc='lower right')\n",
    "plt.ylabel('True Positive Rate')\n",
    "plt.xlabel('False Negative Numbers')\n",
    "plt.legend(['Filter size: 160', 'Filter size: 64', 'Filter size: 160'], loc='lower right')\n",
    "plt.show()"
   ]
  },
  {
   "cell_type": "code",
   "execution_count": null,
   "metadata": {
    "collapsed": false
   },
   "outputs": [],
   "source": [
    "plt.imshow(y_score[18].reshape(264,132),'gray')"
   ]
  },
  {
   "cell_type": "code",
   "execution_count": null,
   "metadata": {
    "collapsed": false
   },
   "outputs": [],
   "source": [
    "getPara(y_score[18], y_true[18], 0.43136)"
   ]
  },
  {
   "cell_type": "code",
   "execution_count": null,
   "metadata": {
    "collapsed": false
   },
   "outputs": [],
   "source": [
    "getPara(y_score[18], y_true[18], 0.40587)"
   ]
  },
  {
   "cell_type": "code",
   "execution_count": null,
   "metadata": {
    "collapsed": true
   },
   "outputs": [],
   "source": [
    "    (TP, FP, TN, FN, class_lable) = perf_measure(y_true[18], y_score[18], 0.43136)\n",
    "    class_lable = class_lable.astype(bool).reshape(264,132)\n",
    "    true =  y_true[18].astype(bool).reshape(264,132)\n",
    "    \n",
    "    predict2 = remove_small_objects(class_lable, 64,in_place=False)\n",
    "    true2 = remove_small_objects(true, 64,in_place=False)\n",
    "    labeled_array1, num_features1 = label(predict2)\n",
    "    labeled_array2, num_features2 = label(true2)\n",
    "    FP_num = num_features1 - num_features2"
   ]
  },
  {
   "cell_type": "code",
   "execution_count": null,
   "metadata": {
    "collapsed": false
   },
   "outputs": [],
   "source": [
    "num_features1"
   ]
  },
  {
   "cell_type": "code",
   "execution_count": null,
   "metadata": {
    "collapsed": false
   },
   "outputs": [],
   "source": [
    "plt.imshow(predict2,'gray')"
   ]
  },
  {
   "cell_type": "code",
   "execution_count": null,
   "metadata": {
    "collapsed": false
   },
   "outputs": [],
   "source": [
    "    (TP, FP, TN, FN, class_lable) = perf_measure(y_true[18], y_score[18], 0.40587)\n",
    "    class_lable = class_lable.astype(bool).reshape(264,132)\n",
    "    true =  y_true[18].astype(bool).reshape(264,132)\n",
    "    \n",
    "    predict2 = remove_small_objects(class_lable, 64,in_place=False)\n",
    "    true2 = remove_small_objects(true, 64,in_place=False)\n",
    "    labeled_array1, num_features1 = label(predict2)\n",
    "    labeled_array2, num_features2 = label(true2)\n",
    "    FP_num = num_features1 - num_features2"
   ]
  },
  {
   "cell_type": "code",
   "execution_count": null,
   "metadata": {
    "collapsed": false
   },
   "outputs": [],
   "source": [
    "num_features1"
   ]
  },
  {
   "cell_type": "code",
   "execution_count": 106,
   "metadata": {
    "collapsed": false
   },
   "outputs": [],
   "source": [
    "y_score = np.load('./resolution/predicted_prob.npy')\n",
    "y_true = np.load('./resolution/answer_image.npy')\n",
    "reso = np.load('./resolution/resolution.npy')"
   ]
  },
  {
   "cell_type": "code",
   "execution_count": 107,
   "metadata": {
    "collapsed": false
   },
   "outputs": [],
   "source": [
    "y_score = y_score[0:y_score.shape[0],1]\n",
    "y_true = y_true[0:y_true.shape[0],1]"
   ]
  },
  {
   "cell_type": "code",
   "execution_count": 108,
   "metadata": {
    "collapsed": false
   },
   "outputs": [],
   "source": [
    "scores = []\n",
    "trues = []\n",
    "next_start = 0\n",
    "for i in range(len(reso)):\n",
    "    ysize = (reso[i][0] - 56)\n",
    "    xsize = (reso[i][0]*0.5 - 28)\n",
    "    scores.append(y_score[next_start: next_start + np.int(ysize * xsize )])\n",
    "    trues.append(y_true[next_start: next_start + np.int(ysize * xsize )])\n",
    "    next_start = np.int( next_start + ysize * xsize )\n",
    "    "
   ]
  },
  {
   "cell_type": "code",
   "execution_count": 111,
   "metadata": {
    "collapsed": false
   },
   "outputs": [
    {
     "name": "stdout",
     "output_type": "stream",
     "text": [
      "(456.0, 228.0)\n",
      "(456.0, 228.0)\n",
      "(456.0, 228.0)\n",
      "(456.0, 228.0)\n",
      "(456.0, 228.0)\n",
      "(456.0, 228.0)\n",
      "(328.0, 164.0)\n",
      "(328.0, 164.0)\n",
      "(328.0, 164.0)\n",
      "(456.0, 228.0)\n",
      "(456.0, 228.0)\n",
      "(456.0, 228.0)\n",
      "(456.0, 228.0)\n",
      "(456.0, 228.0)\n",
      "(584.0, 292.0)\n",
      "(584.0, 292.0)\n",
      "(584.0, 292.0)\n",
      "(584.0, 292.0)\n",
      "(584.0, 292.0)\n",
      "(328.0, 164.0)\n",
      "(328.0, 164.0)\n",
      "(328.0, 164.0)\n"
     ]
    }
   ],
   "source": [
    "for i in range(len(reso)):\n",
    "    ysize = (reso[i][0] - 56)\n",
    "    xsize = (reso[i][0]*0.5 - 28)\n",
    "    print(ysize,xsize)"
   ]
  },
  {
   "cell_type": "code",
   "execution_count": 112,
   "metadata": {
    "collapsed": true
   },
   "outputs": [],
   "source": [
    "import cv2\n",
    "import numpy as np\n",
    "import os\n",
    "import dicom\n",
    "import data\n",
    "import copy\n",
    "from keras.models import Sequential\n",
    "from keras.layers import Dense, Dropout, Activation, Flatten\n",
    "from keras.layers import Convolution2D, MaxPooling2D\n",
    "from keras.utils import np_utils\n",
    "from scipy import ndimage\n",
    "from keras.optimizers import SGD\n",
    "from keras.utils import np_utils\n",
    "from skimage.morphology import remove_small_objects\n",
    "from scipy import ndimage\n",
    "from sklearn import metrics, metrics\n",
    "from scipy.ndimage.measurements import label\n",
    "\n",
    "\n",
    "def getPara(predict, true, threshold, resolution):\n",
    "    (TP, FP, TN, FN, class_lable) = perf_measure(true, predict, threshold)\n",
    "    if((TP + FN) == 0):\n",
    "        TPR = 0\n",
    "    else:\n",
    "        TPR = np.float(TP) / (TP + FN)\n",
    "\n",
    "    class_lable = class_lable.astype(\n",
    "        bool).reshape(resolution[0], resolution[1])\n",
    "    true = true.astype(bool).reshape(resolution[0], resolution[1])\n",
    "\n",
    "    predict2 = remove_small_objects(class_lable, 160, in_place=False)\n",
    "    labeled_array1, num_features1 = label(predict2)\n",
    "    labeled_array2, num_features2 = label(true)\n",
    "    FP_num = num_features1 - num_features2\n",
    "    if FP_num < 0:\n",
    "        FP_num = 0\n",
    "    return TPR, FP_num\n",
    "\n",
    "\n",
    "def perf_measure(y_actual, predict, threshold):\n",
    "    TP = 0\n",
    "    FP = 0\n",
    "    TN = 0\n",
    "    FN = 0\n",
    "    predict = transfer_prob(predict, threshold)\n",
    "    for i in range(len(predict)):\n",
    "        if y_actual[i] == predict[i] == 1:\n",
    "            TP += 1\n",
    "    for i in range(len(predict)):\n",
    "        if y_actual[i] == 0 and y_actual[i] != predict[i]:\n",
    "            FP += 1\n",
    "    for i in range(len(predict)):\n",
    "        if y_actual[i] == predict[i] == 0:\n",
    "            TN += 1\n",
    "    for i in range(len(predict)):\n",
    "        if y_actual[i] == 1 and y_actual[i] != predict[i]:\n",
    "            FN += 1\n",
    "\n",
    "    return(TP, FP, TN, FN, predict)\n",
    "\n",
    "\n",
    "def transfer_prob(y_score, threshold):\n",
    "    y_result = []\n",
    "    for i in range(len(y_score)):\n",
    "        if y_score[i] >= threshold:\n",
    "            y_result.append(1)\n",
    "        else:\n",
    "            y_result.append(0)\n",
    "    return np.asarray(y_result)\n",
    "\n"
   ]
  },
  {
   "cell_type": "code",
   "execution_count": 194,
   "metadata": {
    "collapsed": false
   },
   "outputs": [],
   "source": [
    "y_score = np.load('./resolution/predicted_prob.npy')\n",
    "y_true = np.load('./resolution/answer_image.npy')\n",
    "reso = np.load('./resolution/resolution.npy')\n",
    "\n",
    "y_score = y_score[0:y_score.shape[0], 1]\n",
    "y_true = y_true[0:y_true.shape[0], 1]\n",
    "\n",
    "scores = []\n",
    "trues = []\n",
    "next_start = 0\n",
    "for i in range(len(reso)):\n",
    "    ysize = (reso[i][0] - 56)\n",
    "    xsize = (reso[i][0] * 0.5 - 28)\n",
    "    reso[i][0] = ysize\n",
    "    reso[i][1] = xsize\n",
    "    scores.append(y_score[next_start: next_start + np.int(ysize * xsize)])\n",
    "    trues.append(y_true[next_start: next_start + np.int(ysize * xsize)])\n",
    "    next_start = np.int(next_start + ysize * xsize)\n",
    "    #print(next_start,ysize,xsize)\n",
    "\n",
    "                                                                                                                                                                                             \n",
    "y_score = np.asarray(scores)\n",
    "y_true = np.asarray(trues)\n",
    "#y_true = y_true.astype(np.int)\n",
    "\n",
    "set_size = 22\n",
    "\n",
    "count = 1\n",
    "\n",
    "\n",
    "thresholds = []\n",
    "tmp = 0\n",
    "for m in range(1, 10, 1):\n",
    "    tmp += 1\n",
    "    # print(m/np.float(100))\n",
    "    thresholds.append(m / np.float(100))\n",
    "for i in range(1, 10, 1):\n",
    "    thresholds.append(i / np.float(10))\n",
    "for m in range(90, 100, 1):\n",
    "    thresholds.append(m / np.float(100))\n",
    "tmp = 0\n",
    "for m in range(900, 1000, 1):\n",
    "    tmp += 1\n",
    "    if(tmp % 10 == 0):\n",
    "        thresholds.append(m / np.float(1000))\n",
    "thresholds = sorted(thresholds, reverse=True)\n",
    "thresholds = np.asarray(thresholds)\n",
    "\n"
   ]
  },
  {
   "cell_type": "code",
   "execution_count": 198,
   "metadata": {
    "collapsed": false
   },
   "outputs": [
    {
     "name": "stderr",
     "output_type": "stream",
     "text": [
      "/Users/fangzhiyuan/anaconda/lib/python2.7/site-packages/ipykernel/__main__.py:28: DeprecationWarning: using a non-integer number instead of an integer will result in an error in the future\n",
      "/Users/fangzhiyuan/anaconda/lib/python2.7/site-packages/ipykernel/__main__.py:29: DeprecationWarning: using a non-integer number instead of an integer will result in an error in the future\n"
     ]
    },
    {
     "ename": "KeyboardInterrupt",
     "evalue": "",
     "output_type": "error",
     "traceback": [
      "\u001b[0;31m---------------------------------------------------------------------------\u001b[0m",
      "\u001b[0;31mKeyboardInterrupt\u001b[0m                         Traceback (most recent call last)",
      "\u001b[0;32m<ipython-input-198-710c5c3fdcb3>\u001b[0m in \u001b[0;36m<module>\u001b[0;34m()\u001b[0m\n\u001b[1;32m      9\u001b[0m     \u001b[0;32mfor\u001b[0m \u001b[0mi\u001b[0m \u001b[0;32min\u001b[0m \u001b[0mrange\u001b[0m\u001b[0;34m(\u001b[0m\u001b[0mset_size\u001b[0m\u001b[0;34m)\u001b[0m\u001b[0;34m:\u001b[0m\u001b[0;34m\u001b[0m\u001b[0m\n\u001b[1;32m     10\u001b[0m         \u001b[0;32mif\u001b[0m \u001b[0mi\u001b[0m \u001b[0;32mnot\u001b[0m \u001b[0;32min\u001b[0m \u001b[0mdelete\u001b[0m\u001b[0;34m:\u001b[0m\u001b[0;34m\u001b[0m\u001b[0m\n\u001b[0;32m---> 11\u001b[0;31m             \u001b[0mTPR\u001b[0m\u001b[0;34m,\u001b[0m \u001b[0mFP_num\u001b[0m \u001b[0;34m=\u001b[0m \u001b[0mgetPara\u001b[0m\u001b[0;34m(\u001b[0m\u001b[0my_score\u001b[0m\u001b[0;34m[\u001b[0m\u001b[0mi\u001b[0m\u001b[0;34m]\u001b[0m\u001b[0;34m,\u001b[0m \u001b[0my_true\u001b[0m\u001b[0;34m[\u001b[0m\u001b[0mi\u001b[0m\u001b[0;34m]\u001b[0m\u001b[0;34m.\u001b[0m\u001b[0mastype\u001b[0m\u001b[0;34m(\u001b[0m\u001b[0mnp\u001b[0m\u001b[0;34m.\u001b[0m\u001b[0mint\u001b[0m\u001b[0;34m)\u001b[0m\u001b[0;34m,\u001b[0m  \u001b[0mthresholds\u001b[0m\u001b[0;34m[\u001b[0m\u001b[0mt\u001b[0m\u001b[0;34m]\u001b[0m\u001b[0;34m,\u001b[0m \u001b[0mreso\u001b[0m\u001b[0;34m[\u001b[0m\u001b[0mi\u001b[0m\u001b[0;34m]\u001b[0m\u001b[0;34m)\u001b[0m\u001b[0;34m\u001b[0m\u001b[0m\n\u001b[0m",
      "\u001b[0;32m<ipython-input-112-a2e3f65d010b>\u001b[0m in \u001b[0;36mgetPara\u001b[0;34m(predict, true, threshold, resolution)\u001b[0m\n\u001b[1;32m     19\u001b[0m \u001b[0;34m\u001b[0m\u001b[0m\n\u001b[1;32m     20\u001b[0m \u001b[0;32mdef\u001b[0m \u001b[0mgetPara\u001b[0m\u001b[0;34m(\u001b[0m\u001b[0mpredict\u001b[0m\u001b[0;34m,\u001b[0m \u001b[0mtrue\u001b[0m\u001b[0;34m,\u001b[0m \u001b[0mthreshold\u001b[0m\u001b[0;34m,\u001b[0m \u001b[0mresolution\u001b[0m\u001b[0;34m)\u001b[0m\u001b[0;34m:\u001b[0m\u001b[0;34m\u001b[0m\u001b[0m\n\u001b[0;32m---> 21\u001b[0;31m     \u001b[0;34m(\u001b[0m\u001b[0mTP\u001b[0m\u001b[0;34m,\u001b[0m \u001b[0mFP\u001b[0m\u001b[0;34m,\u001b[0m \u001b[0mTN\u001b[0m\u001b[0;34m,\u001b[0m \u001b[0mFN\u001b[0m\u001b[0;34m,\u001b[0m \u001b[0mclass_lable\u001b[0m\u001b[0;34m)\u001b[0m \u001b[0;34m=\u001b[0m \u001b[0mperf_measure\u001b[0m\u001b[0;34m(\u001b[0m\u001b[0mtrue\u001b[0m\u001b[0;34m,\u001b[0m \u001b[0mpredict\u001b[0m\u001b[0;34m,\u001b[0m \u001b[0mthreshold\u001b[0m\u001b[0;34m)\u001b[0m\u001b[0;34m\u001b[0m\u001b[0m\n\u001b[0m\u001b[1;32m     22\u001b[0m     \u001b[0;32mif\u001b[0m\u001b[0;34m(\u001b[0m\u001b[0;34m(\u001b[0m\u001b[0mTP\u001b[0m \u001b[0;34m+\u001b[0m \u001b[0mFN\u001b[0m\u001b[0;34m)\u001b[0m \u001b[0;34m==\u001b[0m \u001b[0;36m0\u001b[0m\u001b[0;34m)\u001b[0m\u001b[0;34m:\u001b[0m\u001b[0;34m\u001b[0m\u001b[0m\n\u001b[1;32m     23\u001b[0m         \u001b[0mTPR\u001b[0m \u001b[0;34m=\u001b[0m \u001b[0;36m0\u001b[0m\u001b[0;34m\u001b[0m\u001b[0m\n",
      "\u001b[0;32m<ipython-input-112-a2e3f65d010b>\u001b[0m in \u001b[0;36mperf_measure\u001b[0;34m(y_actual, predict, threshold)\u001b[0m\n\u001b[1;32m     45\u001b[0m     \u001b[0mpredict\u001b[0m \u001b[0;34m=\u001b[0m \u001b[0mtransfer_prob\u001b[0m\u001b[0;34m(\u001b[0m\u001b[0mpredict\u001b[0m\u001b[0;34m,\u001b[0m \u001b[0mthreshold\u001b[0m\u001b[0;34m)\u001b[0m\u001b[0;34m\u001b[0m\u001b[0m\n\u001b[1;32m     46\u001b[0m     \u001b[0;32mfor\u001b[0m \u001b[0mi\u001b[0m \u001b[0;32min\u001b[0m \u001b[0mrange\u001b[0m\u001b[0;34m(\u001b[0m\u001b[0mlen\u001b[0m\u001b[0;34m(\u001b[0m\u001b[0mpredict\u001b[0m\u001b[0;34m)\u001b[0m\u001b[0;34m)\u001b[0m\u001b[0;34m:\u001b[0m\u001b[0;34m\u001b[0m\u001b[0m\n\u001b[0;32m---> 47\u001b[0;31m         \u001b[0;32mif\u001b[0m \u001b[0my_actual\u001b[0m\u001b[0;34m[\u001b[0m\u001b[0mi\u001b[0m\u001b[0;34m]\u001b[0m \u001b[0;34m==\u001b[0m \u001b[0mpredict\u001b[0m\u001b[0;34m[\u001b[0m\u001b[0mi\u001b[0m\u001b[0;34m]\u001b[0m \u001b[0;34m==\u001b[0m \u001b[0;36m1\u001b[0m\u001b[0;34m:\u001b[0m\u001b[0;34m\u001b[0m\u001b[0m\n\u001b[0m\u001b[1;32m     48\u001b[0m             \u001b[0mTP\u001b[0m \u001b[0;34m+=\u001b[0m \u001b[0;36m1\u001b[0m\u001b[0;34m\u001b[0m\u001b[0m\n\u001b[1;32m     49\u001b[0m     \u001b[0;32mfor\u001b[0m \u001b[0mi\u001b[0m \u001b[0;32min\u001b[0m \u001b[0mrange\u001b[0m\u001b[0;34m(\u001b[0m\u001b[0mlen\u001b[0m\u001b[0;34m(\u001b[0m\u001b[0mpredict\u001b[0m\u001b[0;34m)\u001b[0m\u001b[0;34m)\u001b[0m\u001b[0;34m:\u001b[0m\u001b[0;34m\u001b[0m\u001b[0m\n",
      "\u001b[0;31mKeyboardInterrupt\u001b[0m: "
     ]
    }
   ],
   "source": [
    "TPR_list = []\n",
    "FP_num_list = []\n",
    "delete = [6, 7, 12, 19, 21]\n",
    "\n",
    "#delete = [6,7,8,9,10,11,12,13,19,20,21]\n",
    "for t in range(1, thresholds.size):\n",
    "    tpr_sum = 0\n",
    "    fp_sum = 0\n",
    "    for i in range(set_size):\n",
    "        if i not in delete:\n",
    "            TPR, FP_num = getPara(y_score[i], y_true[i].astype(np.int),  thresholds[t], reso[i])"
   ]
  },
  {
   "cell_type": "code",
   "execution_count": 199,
   "metadata": {
    "collapsed": false
   },
   "outputs": [
    {
     "name": "stderr",
     "output_type": "stream",
     "text": [
      "/Users/fangzhiyuan/anaconda/lib/python2.7/site-packages/ipykernel/__main__.py:28: DeprecationWarning: using a non-integer number instead of an integer will result in an error in the future\n",
      "/Users/fangzhiyuan/anaconda/lib/python2.7/site-packages/ipykernel/__main__.py:29: DeprecationWarning: using a non-integer number instead of an integer will result in an error in the future\n"
     ]
    },
    {
     "data": {
      "text/plain": [
       "(0.5129474485910129, 6)"
      ]
     },
     "execution_count": 199,
     "metadata": {},
     "output_type": "execute_result"
    }
   ],
   "source": [
    "getPara(y_score[i], y_true[i].astype(np.int),  thresholds[t], reso[i])"
   ]
  },
  {
   "cell_type": "code",
   "execution_count": 170,
   "metadata": {
    "collapsed": false
   },
   "outputs": [],
   "source": [
    "predict = y_score[i]\n",
    "true = y_true[i]\n",
    "threshold = 0.5"
   ]
  },
  {
   "cell_type": "code",
   "execution_count": 174,
   "metadata": {
    "collapsed": false
   },
   "outputs": [],
   "source": [
    "    TP = 0\n",
    "    FP = 0\n",
    "    TN = 0\n",
    "    FN = 0\n",
    "    predict = transfer_prob(predict, threshold)\n",
    "    y_actual = true"
   ]
  },
  {
   "cell_type": "code",
   "execution_count": 175,
   "metadata": {
    "collapsed": false
   },
   "outputs": [
    {
     "ename": "IndexError",
     "evalue": "invalid index to scalar variable.",
     "output_type": "error",
     "traceback": [
      "\u001b[0;31m---------------------------------------------------------------------------\u001b[0m",
      "\u001b[0;31mIndexError\u001b[0m                                Traceback (most recent call last)",
      "\u001b[0;32m<ipython-input-175-b11be20127c3>\u001b[0m in \u001b[0;36m<module>\u001b[0;34m()\u001b[0m\n\u001b[1;32m      1\u001b[0m \u001b[0;32mfor\u001b[0m \u001b[0mi\u001b[0m \u001b[0;32min\u001b[0m \u001b[0mrange\u001b[0m\u001b[0;34m(\u001b[0m\u001b[0mlen\u001b[0m\u001b[0;34m(\u001b[0m\u001b[0mpredict\u001b[0m\u001b[0;34m)\u001b[0m\u001b[0;34m)\u001b[0m\u001b[0;34m:\u001b[0m\u001b[0;34m\u001b[0m\u001b[0m\n\u001b[0;32m----> 2\u001b[0;31m     \u001b[0;32mif\u001b[0m \u001b[0my_actual\u001b[0m\u001b[0;34m[\u001b[0m\u001b[0mi\u001b[0m\u001b[0;34m]\u001b[0m \u001b[0;34m==\u001b[0m \u001b[0mpredict\u001b[0m\u001b[0;34m[\u001b[0m\u001b[0mi\u001b[0m\u001b[0;34m]\u001b[0m \u001b[0;34m==\u001b[0m \u001b[0;36m1\u001b[0m\u001b[0;34m:\u001b[0m\u001b[0;34m\u001b[0m\u001b[0m\n\u001b[0m\u001b[1;32m      3\u001b[0m         \u001b[0mTP\u001b[0m \u001b[0;34m+=\u001b[0m \u001b[0;36m1\u001b[0m\u001b[0;34m\u001b[0m\u001b[0m\n\u001b[1;32m      4\u001b[0m \u001b[0;32mfor\u001b[0m \u001b[0mi\u001b[0m \u001b[0;32min\u001b[0m \u001b[0mrange\u001b[0m\u001b[0;34m(\u001b[0m\u001b[0mlen\u001b[0m\u001b[0;34m(\u001b[0m\u001b[0mpredict\u001b[0m\u001b[0;34m)\u001b[0m\u001b[0;34m)\u001b[0m\u001b[0;34m:\u001b[0m\u001b[0;34m\u001b[0m\u001b[0m\n\u001b[1;32m      5\u001b[0m     \u001b[0;32mif\u001b[0m \u001b[0my_actual\u001b[0m\u001b[0;34m[\u001b[0m\u001b[0mi\u001b[0m\u001b[0;34m]\u001b[0m \u001b[0;34m==\u001b[0m \u001b[0;36m0\u001b[0m \u001b[0;32mand\u001b[0m \u001b[0my_actual\u001b[0m\u001b[0;34m[\u001b[0m\u001b[0mi\u001b[0m\u001b[0;34m]\u001b[0m \u001b[0;34m!=\u001b[0m \u001b[0mpredict\u001b[0m\u001b[0;34m[\u001b[0m\u001b[0mi\u001b[0m\u001b[0;34m]\u001b[0m\u001b[0;34m:\u001b[0m\u001b[0;34m\u001b[0m\u001b[0m\n",
      "\u001b[0;31mIndexError\u001b[0m: invalid index to scalar variable."
     ]
    }
   ],
   "source": [
    "    for i in range(len(predict)):\n",
    "        if y_actual[i] == predict[i] == 1:\n",
    "            TP += 1\n",
    "    for i in range(len(predict)):\n",
    "        if y_actual[i] == 0 and y_actual[i] != predict[i]:\n",
    "            FP += 1\n",
    "    for i in range(len(predict)):\n",
    "        if y_actual[i] == predict[i] == 0:\n",
    "            TN += 1\n",
    "    for i in range(len(predict)):\n",
    "        if y_actual[i] == 1 and y_actual[i] != predict[i]:\n",
    "            FN += 1"
   ]
  },
  {
   "cell_type": "code",
   "execution_count": 176,
   "metadata": {
    "collapsed": false
   },
   "outputs": [
    {
     "ename": "IndexError",
     "evalue": "invalid index to scalar variable.",
     "output_type": "error",
     "traceback": [
      "\u001b[0;31m---------------------------------------------------------------------------\u001b[0m",
      "\u001b[0;31mIndexError\u001b[0m                                Traceback (most recent call last)",
      "\u001b[0;32m<ipython-input-176-3e14171ce079>\u001b[0m in \u001b[0;36m<module>\u001b[0;34m()\u001b[0m\n\u001b[1;32m      1\u001b[0m \u001b[0;32mfor\u001b[0m \u001b[0mi\u001b[0m \u001b[0;32min\u001b[0m \u001b[0mrange\u001b[0m\u001b[0;34m(\u001b[0m\u001b[0mlen\u001b[0m\u001b[0;34m(\u001b[0m\u001b[0mpredict\u001b[0m\u001b[0;34m)\u001b[0m\u001b[0;34m)\u001b[0m\u001b[0;34m:\u001b[0m\u001b[0;34m\u001b[0m\u001b[0m\n\u001b[0;32m----> 2\u001b[0;31m     \u001b[0;32mif\u001b[0m \u001b[0my_actual\u001b[0m\u001b[0;34m[\u001b[0m\u001b[0mi\u001b[0m\u001b[0;34m]\u001b[0m \u001b[0;34m==\u001b[0m \u001b[0mpredict\u001b[0m\u001b[0;34m[\u001b[0m\u001b[0mi\u001b[0m\u001b[0;34m]\u001b[0m \u001b[0;34m==\u001b[0m \u001b[0;36m1\u001b[0m\u001b[0;34m:\u001b[0m\u001b[0;34m\u001b[0m\u001b[0m\n\u001b[0m\u001b[1;32m      3\u001b[0m         \u001b[0mTP\u001b[0m \u001b[0;34m+=\u001b[0m \u001b[0;36m1\u001b[0m\u001b[0;34m\u001b[0m\u001b[0m\n",
      "\u001b[0;31mIndexError\u001b[0m: invalid index to scalar variable."
     ]
    }
   ],
   "source": [
    "    for i in range(len(predict)):\n",
    "        if y_actual[i] == predict[i] == 1:\n",
    "            TP += 1"
   ]
  },
  {
   "cell_type": "code",
   "execution_count": 196,
   "metadata": {
    "collapsed": false
   },
   "outputs": [
    {
     "data": {
      "text/plain": [
       "array([0, 0, 0, ..., 0, 0, 0])"
      ]
     },
     "execution_count": 196,
     "metadata": {},
     "output_type": "execute_result"
    }
   ],
   "source": [
    "y_true[i].astype(np.int)"
   ]
  },
  {
   "cell_type": "code",
   "execution_count": 200,
   "metadata": {
    "collapsed": false
   },
   "outputs": [
    {
     "data": {
      "text/plain": [
       "array([[  4.56000000e+02,   2.28000000e+02,   5.85900000e-01,\n",
       "          5.85900000e-01],\n",
       "       [  4.56000000e+02,   2.28000000e+02,   5.85900000e-01,\n",
       "          5.85900000e-01],\n",
       "       [  4.56000000e+02,   2.28000000e+02,   5.85900000e-01,\n",
       "          5.85900000e-01],\n",
       "       [  4.56000000e+02,   2.28000000e+02,   5.85900000e-01,\n",
       "          5.85900000e-01],\n",
       "       [  4.56000000e+02,   2.28000000e+02,   5.85900000e-01,\n",
       "          5.85900000e-01],\n",
       "       [  4.56000000e+02,   2.28000000e+02,   5.85900000e-01,\n",
       "          5.85900000e-01],\n",
       "       [  3.28000000e+02,   1.64000000e+02,   7.29166687e-01,\n",
       "          7.29166687e-01],\n",
       "       [  3.28000000e+02,   1.64000000e+02,   7.29166687e-01,\n",
       "          7.29166687e-01],\n",
       "       [  3.28000000e+02,   1.64000000e+02,   7.29166687e-01,\n",
       "          7.29166687e-01],\n",
       "       [  4.56000000e+02,   2.28000000e+02,   5.46900000e-01,\n",
       "          5.46900000e-01],\n",
       "       [  4.56000000e+02,   2.28000000e+02,   5.46900000e-01,\n",
       "          5.46900000e-01],\n",
       "       [  4.56000000e+02,   2.28000000e+02,   5.46900000e-01,\n",
       "          5.46900000e-01],\n",
       "       [  4.56000000e+02,   2.28000000e+02,   5.46900000e-01,\n",
       "          5.46900000e-01],\n",
       "       [  4.56000000e+02,   2.28000000e+02,   5.46900000e-01,\n",
       "          5.46900000e-01],\n",
       "       [  5.84000000e+02,   2.92000000e+02,   5.62500000e-01,\n",
       "          5.62500000e-01],\n",
       "       [  5.84000000e+02,   2.92000000e+02,   5.62500000e-01,\n",
       "          5.62500000e-01],\n",
       "       [  5.84000000e+02,   2.92000000e+02,   5.62500000e-01,\n",
       "          5.62500000e-01],\n",
       "       [  5.84000000e+02,   2.92000000e+02,   5.62500000e-01,\n",
       "          5.62500000e-01],\n",
       "       [  5.84000000e+02,   2.92000000e+02,   5.62500000e-01,\n",
       "          5.62500000e-01],\n",
       "       [  3.28000000e+02,   1.64000000e+02,   7.29166687e-01,\n",
       "          7.29166687e-01],\n",
       "       [  3.28000000e+02,   1.64000000e+02,   7.29166687e-01,\n",
       "          7.29166687e-01],\n",
       "       [  3.28000000e+02,   1.64000000e+02,   7.29166687e-01,\n",
       "          7.29166687e-01]])"
      ]
     },
     "execution_count": 200,
     "metadata": {},
     "output_type": "execute_result"
    }
   ],
   "source": [
    "reso"
   ]
  },
  {
   "cell_type": "code",
   "execution_count": 201,
   "metadata": {
    "collapsed": false
   },
   "outputs": [
    {
     "ename": "IndexError",
     "evalue": "tuple index out of range",
     "output_type": "error",
     "traceback": [
      "\u001b[0;31m---------------------------------------------------------------------------\u001b[0m",
      "\u001b[0;31mIndexError\u001b[0m                                Traceback (most recent call last)",
      "\u001b[0;32m<ipython-input-201-e8803c15ce9d>\u001b[0m in \u001b[0;36m<module>\u001b[0;34m()\u001b[0m\n\u001b[1;32m      7\u001b[0m \u001b[0;31m#FP_num_list2 = np.load('FP_num_list1.npy')\u001b[0m\u001b[0;34m\u001b[0m\u001b[0;34m\u001b[0m\u001b[0m\n\u001b[1;32m      8\u001b[0m \u001b[0;34m\u001b[0m\u001b[0m\n\u001b[0;32m----> 9\u001b[0;31m \u001b[0mfalse_positive_rate\u001b[0m\u001b[0;34m,\u001b[0m \u001b[0mtrue_positive_rate\u001b[0m\u001b[0;34m,\u001b[0m \u001b[0mthreshol\u001b[0m \u001b[0;34m=\u001b[0m \u001b[0mmetrics\u001b[0m\u001b[0;34m.\u001b[0m\u001b[0mroc_curve\u001b[0m\u001b[0;34m(\u001b[0m\u001b[0my_true\u001b[0m\u001b[0;34m.\u001b[0m\u001b[0mreshape\u001b[0m\u001b[0;34m(\u001b[0m\u001b[0my_true\u001b[0m\u001b[0;34m.\u001b[0m\u001b[0mshape\u001b[0m\u001b[0;34m[\u001b[0m\u001b[0;36m0\u001b[0m\u001b[0;34m]\u001b[0m\u001b[0;34m*\u001b[0m\u001b[0my_true\u001b[0m\u001b[0;34m.\u001b[0m\u001b[0mshape\u001b[0m\u001b[0;34m[\u001b[0m\u001b[0;36m1\u001b[0m\u001b[0;34m]\u001b[0m\u001b[0;34m)\u001b[0m\u001b[0;34m,\u001b[0m \u001b[0my_score\u001b[0m\u001b[0;34m.\u001b[0m\u001b[0mreshape\u001b[0m\u001b[0;34m(\u001b[0m\u001b[0my_score\u001b[0m\u001b[0;34m.\u001b[0m\u001b[0mshape\u001b[0m\u001b[0;34m[\u001b[0m\u001b[0;36m0\u001b[0m\u001b[0;34m]\u001b[0m\u001b[0;34m*\u001b[0m\u001b[0my_score\u001b[0m\u001b[0;34m.\u001b[0m\u001b[0mshape\u001b[0m\u001b[0;34m[\u001b[0m\u001b[0;36m1\u001b[0m\u001b[0;34m]\u001b[0m\u001b[0;34m)\u001b[0m\u001b[0;34m)\u001b[0m\u001b[0;34m\u001b[0m\u001b[0m\n\u001b[0m\u001b[1;32m     10\u001b[0m \u001b[0mthresholds\u001b[0m \u001b[0;34m=\u001b[0m \u001b[0;34m[\u001b[0m\u001b[0;34m]\u001b[0m\u001b[0;34m\u001b[0m\u001b[0m\n\u001b[1;32m     11\u001b[0m \u001b[0mcount\u001b[0m \u001b[0;34m=\u001b[0m \u001b[0;36m1\u001b[0m\u001b[0;34m\u001b[0m\u001b[0m\n",
      "\u001b[0;31mIndexError\u001b[0m: tuple index out of range"
     ]
    }
   ],
   "source": [
    "\n",
    "\n",
    "TPR_list1= np.load('TPR_list_160.npy') \n",
    "FP_num_list1 = np.load('FP_num_list_160.npy')\n",
    "\n",
    "#TPR_list2= np.load('TPR_list1.npy') \n",
    "#FP_num_list2 = np.load('FP_num_list1.npy')\n",
    "\n",
    "false_positive_rate, true_positive_rate, threshol = metrics.roc_curve(y_true.reshape(y_true.shape[0]*y_true.shape[1]), y_score.reshape(y_score.shape[0]*y_score.shape[1]))\n",
    "thresholds = []\n",
    "count = 1\n",
    "for i in range(threshol.shape[0]):\n",
    "    if(threshol[i] > 0.01 and count%100 == 0):\n",
    "        thresholds.append(threshol[i])\n",
    "    count += 1\n",
    "thresholds = np.asarray(thresholds)\n",
    "   "
   ]
  },
  {
   "cell_type": "code",
   "execution_count": 6,
   "metadata": {
    "collapsed": true
   },
   "outputs": [],
   "source": [
    "\n",
    "TPR_list= np.load('./resolution/TPR_list_reso.npy') \n",
    "FP_num_list = np.load('./resolution/FP_num_list_reso.npy')\n"
   ]
  },
  {
   "cell_type": "code",
   "execution_count": 7,
   "metadata": {
    "collapsed": false
   },
   "outputs": [
    {
     "data": {
      "text/plain": [
       "array([ 0.40961644,  0.41331948,  0.43437496,  0.43639786,  0.44750569,\n",
       "        0.44814098,  0.45687315,  0.45767279,  0.46589002,  0.46626547,\n",
       "        0.47305448,  0.47305448,  0.47910395,  0.47944498,  0.48343548,\n",
       "        0.48405351,  0.48764436,  0.48844036,  0.49338583,  0.49338583,\n",
       "        0.5295392 ,  0.56103594,  0.59098634,  0.62394333,  0.65527835,\n",
       "        0.6847334 ,  0.71333   ,  0.74796118,  0.75104789,  0.75621759,\n",
       "        0.76063337,  0.76641144,  0.77209585,  0.77744104,  0.78603683,\n",
       "        0.79783071,  0.81357874])"
      ]
     },
     "execution_count": 7,
     "metadata": {},
     "output_type": "execute_result"
    }
   ],
   "source": [
    "TPR_list"
   ]
  },
  {
   "cell_type": "code",
   "execution_count": 8,
   "metadata": {
    "collapsed": false
   },
   "outputs": [
    {
     "data": {
      "text/plain": [
       "array([ 0.    ,  0.    ,  0.    ,  0.    ,  0.0625,  0.0625,  0.0625,\n",
       "        0.0625,  0.125 ,  0.125 ,  0.25  ,  0.25  ,  0.25  ,  0.25  ,\n",
       "        0.25  ,  0.25  ,  0.25  ,  0.25  ,  0.25  ,  0.25  ,  0.375 ,\n",
       "        0.5   ,  0.75  ,  1.125 ,  1.375 ,  1.5   ,  1.8125,  2.5625,\n",
       "        2.6875,  2.875 ,  3.1875,  3.375 ,  3.5625,  3.6875,  4.3125,\n",
       "        4.9375,  5.375 ])"
      ]
     },
     "execution_count": 8,
     "metadata": {},
     "output_type": "execute_result"
    }
   ],
   "source": [
    "FP_num_list"
   ]
  },
  {
   "cell_type": "markdown",
   "metadata": {},
   "source": [
    "TPR_list= np.load('./resolution/TPR_list_reso.npy') \n",
    "FP_num_list = np.load('./resolution/FP_num_list_reso.npy')\n",
    "\n",
    "TPR_list1= np.load('./resolution/TPR_list_64.npy') \n",
    "FP_num_list1 = np.load('./resolution/FP_num_list_64.npy')\n",
    "\n",
    "TPR_list2= np.load('./resolution/TPR_list_128.npy') \n",
    "FP_num_list2 = np.load('./resolution/FP_num_list_128.npy')\n",
    "\n",
    "plt.gca().set_color_cycle(['red', 'green', 'blue'])\n",
    "plt.title('Free response Receiver Operating Characteristic')\n",
    "plt.plot((FP_num_list), (TPR_list), marker = 'o')\n",
    "plt.plot((FP_num_list1), (TPR_list1), marker = 'o')\n",
    "plt.plot((FP_num_list2), (TPR_list2), marker = 'o')\n",
    "plt.ylim([ 0.3,0.85])\n",
    "plt.xlim([-0.1,4])\n",
    "plt.legend(loc='lower right')\n",
    "plt.ylabel('True Positive Rate')\n",
    "plt.xlabel('False Negative Numbers')\n",
    "plt.legend(['Filter size: 160', 'Filter size: 64', 'Filter size: 128'], loc='lower right')\n",
    "plt.show()"
   ]
  },
  {
   "cell_type": "code",
   "execution_count": 5,
   "metadata": {
    "collapsed": false
   },
   "outputs": [
    {
     "data": {
      "image/png": "[encoded data removed]",
      "text/plain": [
       "<matplotlib.figure.Figure at 0x114075550>"
      ]
     },
     "metadata": {},
     "output_type": "display_data"
    }
   ],
   "source": [
    "\n",
    "TPR_list= np.load('./resolution/TPR_list_600.npy') \n",
    "FP_num_list = np.load('./resolution/FP_num_list_600.npy')\n",
    "TPR_list1= np.load('./resolution/TPR_list_500.npy')\n",
    "FP_num_list1 = np.load('./resolution/FP_num_list_500.npy')\n",
    "\n",
    "TPR_list2= np.load('./resolution/TPR_list_490.npy') \n",
    "FP_num_list2 = np.load('./resolution/FP_num_list_490.npy')\n",
    "\n",
    "TPR_list3= np.load('./resolution/TPR_list_400.npy') \n",
    "FP_num_list3 = np.load('./resolution/FP_num_list_400.npy')\n",
    "\n",
    "TPR_list4= np.load('./resolution/TPR_list_noreso.npy') \n",
    "FP_num_list4 = np.load('./resolution/FP_num_list_noreso.npy')\n",
    "\n",
    "TPR_list5= np.load('./resolution/TPR_list_special.npy') \n",
    "FP_num_list5 = np.load('./resolution/FP_num_list_spec.npy')\n",
    "\n",
    "plt.gca().set_color_cycle(['red', 'green', 'blue','orange','purple','yellow'])\n",
    "plt.title('Free response Receiver Operating Characteristic')\n",
    "plt.plot((FP_num_list), (TPR_list), marker = 'o')\n",
    "plt.plot((FP_num_list1), (TPR_list1), marker = 'o') \n",
    "plt.plot((FP_num_list2), (TPR_list2), marker = 'o') \n",
    "plt.plot((FP_num_list3), (TPR_list3), marker = 'o') \n",
    "plt.plot((FP_num_list4), (TPR_list4), marker = 'o') \n",
    "\n",
    "plt.ylim([ 0.3,0.9]) \n",
    "plt.xlim([-0.1,3])\n",
    "plt.grid()\n",
    "plt.legend(loc='lower right') \n",
    "plt.ylabel('True Positive Rate')\n",
    "plt.xlabel('False Negative Numbers')\n",
    "plt.legend([ 'Filter size: 600', 'Filter size: 500', 'Filter size: un reso_500','Filter size: 400','unstable resolution'], loc='lower right')\n",
    "plt.show()"
   ]
  },
  {
   "cell_type": "code",
   "execution_count": 8,
   "metadata": {
    "collapsed": false
   },
   "outputs": [
    {
     "data": {
      "image/png": "[encoded data removed]",
      "text/plain": [
       "<matplotlib.figure.Figure at 0x1143c1fd0>"
      ]
     },
     "metadata": {},
     "output_type": "display_data"
    }
   ],
   "source": [
    "\n",
    "TPR_list4= np.load('./resolution/TPR_list_special.npy') \n",
    "FP_num_list4 = np.load('./resolution/FP_num_list_special.npy')\n",
    "\n",
    "plt.gca().set_color_cycle(['red', 'green', 'blue','orange','purple'])\n",
    "plt.title('Free response Receiver Operating Characteristic')\n",
    "\n",
    "plt.plot((FP_num_list4), (TPR_list4), marker = 'o') \n",
    "\n",
    "plt.ylim([ 0.3,0.95]) \n",
    "plt.xlim([-0.1,3])\n",
    "plt.grid()\n",
    "plt.legend(loc='lower right') \n",
    "plt.ylabel('True Positive Rate')\n",
    "plt.xlabel('False Negative Numbers')\n",
    "plt.legend([ 'Filter size: 600', 'Filter size: 500', 'Filter size: un reso_500','Filter size: 400','unstable resolution'], loc='lower right')\n",
    "plt.show()"
   ]
  },
  {
   "cell_type": "code",
   "execution_count": null,
   "metadata": {
    "collapsed": true
   },
   "outputs": [],
   "source": []
  }
 ],
 "metadata": {
  "kernelspec": {
   "display_name": "Python 2",
   "language": "python",
   "name": "python2"
  },
  "language_info": {
   "codemirror_mode": {
    "name": "ipython",
    "version": 2
   },
   "file_extension": ".py",
   "mimetype": "text/x-python",
   "name": "python",
   "nbconvert_exporter": "python",
   "pygments_lexer": "ipython2",
   "version": "2.7.11"
  }
 },
 "nbformat": 4,
 "nbformat_minor": 0
}
