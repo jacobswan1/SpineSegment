{
 "cells": [
  {
   "cell_type": "code",
   "execution_count": 1,
   "metadata": {
    "collapsed": false
   },
   "outputs": [
    {
     "name": "stderr",
     "output_type": "stream",
     "text": [
      "Using TensorFlow backend.\n"
     ]
    }
   ],
   "source": [
    "import cv2\n",
    "import numpy as np\n",
    "import os \n",
    "import dicom\n",
    "import data\n",
    "import copy\n",
    "from keras.models import Sequential\n",
    "from keras.layers import Dense, Dropout, Activation, Flatten\n",
    "from keras.layers import Convolution2D, MaxPooling2D\n",
    "from keras.utils import np_utils\n",
    "from keras.optimizers import SGD\n",
    "from keras.utils import np_utils\n",
    "import matplotlib.pyplot as plt\n",
    "%matplotlib inline"
   ]
  },
  {
   "cell_type": "code",
   "execution_count": 2,
   "metadata": {
    "collapsed": false
   },
   "outputs": [],
   "source": [
    "nb_classes = 2\n",
    "RECEP_HEI = 56\n",
    "RECEP_WEI = 28\n",
    "model = Sequential()\n",
    "model.add(Convolution2D(32, 3, 3, border_mode='same',\n",
    "                        input_shape=( 1 , RECEP_HEI, RECEP_WEI)))\n",
    "model.add(Activation('relu'))\n",
    "model.add(MaxPooling2D(pool_size=(2, 2)))\n",
    "model.add(Convolution2D(32, 3, 3))\n",
    "model.add(Activation('relu'))\n",
    "model.add(MaxPooling2D(pool_size=(2, 2)))\n",
    "model.add(Flatten())\n",
    "model.add(Dense(128))\n",
    "model.add(Activation('relu'))\n",
    "model.add(Dropout(0.5))\n",
    "model.add(Dense(nb_classes))\n",
    "model.add(Activation('softmax'))\n",
    "\n",
    "sgd = SGD(lr=0.1, decay=1e-6, momentum=0.9, nesterov=True)\n",
    "model.load_weights('weights.hdf5')\n",
    "model.compile(loss='categorical_crossentropy',\n",
    "              optimizer=sgd,\n",
    "              metrics=['accuracy'])\n",
    "#model.fit(X_train, Y_train, batch_size=32, nb_epoch=1,\n",
    "          #verbose=1, shuffle = True ,validation_split=0.25)"
   ]
  },
  {
   "cell_type": "code",
   "execution_count": 3,
   "metadata": {
    "collapsed": true
   },
   "outputs": [],
   "source": [
    "def get_input_and_output(source):\n",
    "    file = open(source, 'r')\n",
    "    list = file.readlines()\n",
    "    test_array = np.empty((0,len(list)), int)\n",
    "    for line in list:\n",
    "        #print line\n",
    "        line = line.split(',')\n",
    "        line[len(line)-1] = line[len(line)-1].replace('\\n','')\n",
    "        line = map(int, line)\n",
    "        test_array = np.append(test_array,np.array([line]),axis = 0)\n",
    "    dir_array = source.split('/')\n",
    "    dir_name = dir_array[len(dir_array)-1].split('_')\n",
    "    dir_image_file = DATA_PATH+'/data/Sagittal-segmentation/'+dir_name[0]+'/'+dir_name[1]+'/'+str(dir_name[2]).replace('txt','dcm')\n",
    "    medical_img=dicom.read_file(dir_image_file)\n",
    "    return medical_img.pixel_array , test_array"
   ]
  },
  {
   "cell_type": "code",
   "execution_count": 5,
   "metadata": {
    "collapsed": false
   },
   "outputs": [
    {
     "name": "stdout",
     "output_type": "stream",
     "text": [
      "Processed images:1.Positive num:943.Total size:34848\n"
     ]
    }
   ],
   "source": [
    "    MODE_TEST_PATH = '/data/metROI/test2_txt'\n",
    "    DATA_PATH =  os.getcwd()\n",
    "    IMG_COLS = 320\n",
    "    IMG_ROWS = 320\n",
    "    count_img = 0\n",
    "    count = 0\n",
    "    index = 0\n",
    "    count_pos = 0\n",
    "    class_lable = 2\n",
    "    x_start = RECEP_WEI \n",
    "    y_start = RECEP_HEI \n",
    "    y_max = IMG_COLS\n",
    "    x_max = IMG_ROWS/2\n",
    "    MODE = 'test'\n",
    "    if MODE == 'train':\n",
    "        TRAIN_DATA_TXT_PATH = DATA_PATH + MODE_TRAIN_PATH\n",
    "    elif MODE == 'test':\n",
    "        TRAIN_DATA_TXT_PATH = DATA_PATH + MODE_TEST_PATH\n",
    "    IMG_LIST = os.listdir(TRAIN_DATA_TXT_PATH)\n",
    "    TRAIN_NUM = len(IMG_LIST)\n",
    "    #TRAIN_IN = np.ndarray((TRAIN_NUM * 38544, 1, RECEP_WEI, RECEP_HEI), dtype=np.float32)\n",
    "    #TRAIN_OUT = np.ndarray((TRAIN_NUM * 38544, 2), dtype=np.float32)\n",
    "    TRAIN_OUT = []\n",
    "    TRAIN_IN = []\n",
    "    for name in IMG_LIST:\n",
    "            med_img , test_array = get_input_and_output(TRAIN_DATA_TXT_PATH + '/' + name)\n",
    "            test_array = test_array + 0.01\n",
    "            med_img = cv2.resize(med_img, (IMG_ROWS,IMG_COLS), interpolation = cv2.INTER_AREA)\n",
    "            test_array = cv2.resize(test_array, (IMG_ROWS,IMG_COLS), interpolation = cv2.INTER_AREA)\n",
    "\n",
    "    \n",
    "            cropImg1 = med_img[0:IMG_ROWS, IMG_COLS/4 : 3*IMG_ROWS/4 ]\n",
    "            cropImg2 = test_array[0:IMG_ROWS, IMG_COLS/4 : 3*IMG_ROWS/4 ]\n",
    "\n",
    "\n",
    "            for i in range(y_start, y_max):\n",
    "                for m in range(x_start, x_max):\n",
    "                    region = cropImg1[i- RECEP_HEI: i, m- RECEP_WEI: m]\n",
    "                    class_lable = cropImg2[i- RECEP_HEI/2][m- RECEP_WEI/2]\n",
    "                    if(class_lable != 1.01):\n",
    "                        TRAIN_IN.append(region.reshape(1,RECEP_HEI, RECEP_WEI))\n",
    "                        TRAIN_OUT.append(np_utils.to_categorical([0], nb_classes)[0])\n",
    "                        index += 1\n",
    "                        #print(index)\n",
    "                        \n",
    "                    elif (class_lable == 1.01):\n",
    "                        TRAIN_IN.append(region.reshape(1,RECEP_HEI, RECEP_WEI))\n",
    "                        TRAIN_OUT.append(np_utils.to_categorical([1], nb_classes)[0])\n",
    "                        count_pos += 1\n",
    "                        index += 1\n",
    "                        #print(index)\n",
    "                        \n",
    "                    count += 1\n",
    "            if(index%1000 == 0):\n",
    "                    print('Processed training set:'+str(index))\n",
    "\n",
    "            count_img += 1\n",
    "            print('Processed images:'+str(count_img)+'.Positive num:'+str(count_pos)+'.Total size:'+str(index))\n",
    "    TRAIN_IN = np.asarray(TRAIN_IN, dtype=np.float)\n",
    "    TRAIN_OUT = np.asarray(TRAIN_OUT, dtype=np.float)"
   ]
  },
  {
   "cell_type": "code",
   "execution_count": 6,
   "metadata": {
    "collapsed": false
   },
   "outputs": [
    {
     "name": "stdout",
     "output_type": "stream",
     "text": [
      "Normalizing training data...\n"
     ]
    }
   ],
   "source": [
    "print('Normalizing training data...')\n",
    "for i in range(TRAIN_IN.shape[0]):\n",
    "    for m in range(TRAIN_IN.shape[1]):\n",
    "        mean = np.mean(TRAIN_IN[i][m])  # mean for data centering\n",
    "        std = np.std(TRAIN_IN[i][m])  # std for data normalization\n",
    "        TRAIN_IN[i][m] = (TRAIN_IN[i][m] - mean)/std"
   ]
  },
  {
   "cell_type": "code",
   "execution_count": 7,
   "metadata": {
    "collapsed": false
   },
   "outputs": [
    {
     "name": "stdout",
     "output_type": "stream",
     "text": [
      "34848/34848 [==============================] - 211s   \n"
     ]
    }
   ],
   "source": [
    "predict_result = model.predict_classes(TRAIN_IN)"
   ]
  },
  {
   "cell_type": "code",
   "execution_count": 8,
   "metadata": {
    "collapsed": false
   },
   "outputs": [
    {
     "data": {
      "text/plain": [
       "<matplotlib.image.AxesImage at 0x103ecb310>"
      ]
     },
     "execution_count": 8,
     "metadata": {},
     "output_type": "execute_result"
    },
    {
     "data": {
      "image/png": "[encoded data removed]",
      "text/plain": [
       "<matplotlib.figure.Figure at 0x1131a3c10>"
      ]
     },
     "metadata": {},
     "output_type": "display_data"
    }
   ],
   "source": [
    "plt.imshow(predict_result.reshape(y_max - y_start,x_max - x_start),'gray')"
   ]
  },
  {
   "cell_type": "code",
   "execution_count": 9,
   "metadata": {
    "collapsed": false
   },
   "outputs": [
    {
     "data": {
      "text/plain": [
       "<matplotlib.image.AxesImage at 0x103e41ad0>"
      ]
     },
     "execution_count": 9,
     "metadata": {},
     "output_type": "execute_result"
    },
    {
     "data": {
      "image/png": "[encoded data removed]",
      "text/plain": [
       "<matplotlib.figure.Figure at 0x103f2a650>"
      ]
     },
     "metadata": {},
     "output_type": "display_data"
    }
   ],
   "source": [
    "plt.imshow(cropImg2,'gray')"
   ]
  },
  {
   "cell_type": "code",
   "execution_count": 10,
   "metadata": {
    "collapsed": false
   },
   "outputs": [
    {
     "data": {
      "text/plain": [
       "<matplotlib.image.AxesImage at 0x113810d10>"
      ]
     },
     "execution_count": 10,
     "metadata": {},
     "output_type": "execute_result"
    },
    {
     "data": {
      "image/png": "[encoded data removed]",
      "text/plain": [
       "<matplotlib.figure.Figure at 0x113483610>"
      ]
     },
     "metadata": {},
     "output_type": "display_data"
    }
   ],
   "source": [
    "plt.imshow(cropImg1,'gray')"
   ]
  },
  {
   "cell_type": "code",
   "execution_count": null,
   "metadata": {
    "collapsed": true
   },
   "outputs": [],
   "source": []
  }
 ],
 "metadata": {
  "kernelspec": {
   "display_name": "Python 2",
   "language": "python",
   "name": "python2"
  },
  "language_info": {
   "codemirror_mode": {
    "name": "ipython",
    "version": 2
   },
   "file_extension": ".py",
   "mimetype": "text/x-python",
   "name": "python",
   "nbconvert_exporter": "python",
   "pygments_lexer": "ipython2",
   "version": "2.7.11"
  }
 },
 "nbformat": 4,
 "nbformat_minor": 0
}
