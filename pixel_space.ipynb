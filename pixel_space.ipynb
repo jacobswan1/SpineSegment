{
 "cells": [
  {
   "cell_type": "code",
   "execution_count": 84,
   "metadata": {
    "collapsed": false
   },
   "outputs": [
    {
     "name": "stdout",
     "output_type": "stream",
     "text": [
      "Processed images:1.Positive num:911.Total size:34848\n",
      "Processed images:2.Positive num:1854.Total size:69696\n",
      "Processed images:3.Positive num:2830.Total size:104544\n",
      "Processed images:4.Positive num:3771.Total size:139392\n",
      "Processed images:5.Positive num:4690.Total size:174240\n",
      "Processed images:6.Positive num:5540.Total size:209088\n",
      "Processed images:7.Positive num:5555.Total size:243936\n",
      "Processed images:8.Positive num:5567.Total size:278784\n",
      "Processed images:9.Positive num:5578.Total size:313632\n",
      "Processed images:10.Positive num:5873.Total size:348480\n",
      "Processed images:11.Positive num:6156.Total size:383328\n",
      "Processed images:12.Positive num:6386.Total size:418176\n",
      "Processed images:13.Positive num:6642.Total size:453024\n",
      "Processed images:14.Positive num:6942.Total size:487872\n",
      "Processed images:15.Positive num:7540.Total size:522720\n",
      "Processed images:16.Positive num:8055.Total size:557568\n",
      "Processed images:17.Positive num:8546.Total size:592416\n",
      "Processed images:18.Positive num:9023.Total size:627264\n",
      "Processed images:19.Positive num:9554.Total size:662112\n",
      "Processed images:20.Positive num:9562.Total size:696960\n",
      "Processed images:21.Positive num:9575.Total size:731808\n",
      "Processed images:22.Positive num:9588.Total size:766656\n"
     ]
    }
   ],
   "source": [
    "    import cv2\n",
    "    import numpy as np\n",
    "    import os\n",
    "    import dicom\n",
    "    import data\n",
    "    import copy\n",
    "    from keras.models import Sequential\n",
    "    from keras.layers import Dense, Dropout, Activation, Flatten\n",
    "    from keras.layers import Convolution2D, MaxPooling2D\n",
    "    from keras.utils import np_utils\n",
    "    from keras.optimizers import SGD\n",
    "    from keras.utils import np_utils\n",
    "\n",
    "    RECEP_HEI = 56\n",
    "    RECEP_WEI = 28\n",
    "    DATA_PATH = os.getcwd()\n",
    "    MODE_TEST_PATH = '/data/metROI/test_txt'\n",
    "    \n",
    "    nb_classes = 2\n",
    "    count_img = 0\n",
    "    count = 0\n",
    "    index = 0\n",
    "    count_pos = 0\n",
    "    class_lable = 2\n",
    "    x_start = RECEP_WEI\n",
    "    y_start = RECEP_HEI\n",
    "\n",
    "    TRAIN_DATA_TXT_PATH = DATA_PATH + MODE_TEST_PATH\n",
    "    IMG_LIST = os.listdir(TRAIN_DATA_TXT_PATH)\n",
    "    TRAIN_NUM = len(IMG_LIST)\n",
    "    TRAIN_OUT = []\n",
    "    TRAIN_IN = []\n",
    "    Resolution = []\n",
    "    for name in IMG_LIST:\n",
    "        \n",
    "        med_img, test_array = get_input_and_output(TRAIN_DATA_TXT_PATH + '/' + name)\n",
    "        med_img_pix = cv2.resize(med_img.pixel_array, (320, 320), interpolation=cv2.INTER_AREA)\n",
    "        test_array = test_array + 0.001\n",
    "        test_array = cv2.resize(test_array, (320, 320), interpolation=cv2.INTER_AREA)\n",
    "        \n",
    "        \n",
    "        cropImg1 = med_img_pix[0:med_img.Rows, 320/ 4: 3 * 320 / 4]\n",
    "        cropImg2 = test_array[0:med_img.Rows, 320 / 4: 3 * 320 / 4]\n",
    "        \n",
    "        Resolution.append( med_img.PixelSpacing[0]* med_img.Rows / np.float(320) )\n",
    "        y_max = 320\n",
    "        x_max = 320 / 2\n",
    "        \n",
    "        for i in range(y_start, y_max):\n",
    "            for m in range(x_start, x_max):\n",
    "                region = cropImg1[i - RECEP_HEI: i, m - RECEP_WEI: m]\n",
    "                class_lable = cropImg2[i - RECEP_HEI / 2][m - RECEP_WEI / 2]\n",
    "                if(class_lable != 1.001 ):\n",
    "                    TRAIN_IN.append(region.reshape(1, RECEP_HEI, RECEP_WEI))\n",
    "                    TRAIN_OUT.append(np_utils.to_categorical([0], nb_classes)[0])\n",
    "                    index += 1\n",
    "                    # print(index)\n",
    "\n",
    "                elif (class_lable == 1.001):\n",
    "                    TRAIN_IN.append(region.reshape(1, RECEP_HEI, RECEP_WEI))\n",
    "                    TRAIN_OUT.append(np_utils.to_categorical([1], nb_classes)[0])\n",
    "                    count_pos += 1\n",
    "                    index += 1\n",
    "                    # print(index)\n",
    "\n",
    "                count += 1\n",
    "        if(index % 1000 == 0):\n",
    "                print('Processed training set:' + str(index))\n",
    "\n",
    "        count_img += 1\n",
    "        print('Processed images:' + str(count_img) + '.Positive num:' +\n",
    "              str(count_pos) + '.Total size:' + str(index))\n",
    "    TRAIN_IN = np.asarray(TRAIN_IN, dtype=np.float)\n",
    "    TRAIN_OUT = np.asarray(TRAIN_OUT, dtype=np.float)\n",
    "    Resolution = np.asarray(Resolution)\n",
    "\n",
    "#     print('Normalizing training data...')\n",
    "#     for i in range(TRAIN_IN.shape[0]):\n",
    "#         for m in range(TRAIN_IN.shape[1]):\n",
    "\n",
    "#             mean = np.mean(TRAIN_IN[i][m])  # mean for data centering\n",
    "#             std = np.std(TRAIN_IN[i][m])  # std for data normalization\n",
    "#             TRAIN_IN[i][m] = (TRAIN_IN[i][m] - mean) / std\n",
    "#     model = getmodel()\n",
    "#     print('Predicting...')\n",
    "#     predict_result = model.predict_classes(TRAIN_IN)\n",
    "#     np.save('answer_image'+'.npy',TRAIN_OUT)\n",
    "#     np.save('predicted_image'+'.npy', predict_result)\n",
    "#     np.save('input_image'+'.npy',TRAIN_IN)\n",
    "#     np.save('resolution'+'.npy', Resolution)\n"
   ]
  },
  {
   "cell_type": "code",
   "execution_count": 85,
   "metadata": {
    "collapsed": false
   },
   "outputs": [],
   "source": [
    "def get_input_and_output(source):\n",
    "    file = open(source, 'r')\n",
    "    list = file.readlines()\n",
    "    test_array = np.empty((0, len(list)), int)\n",
    "    for line in list:\n",
    "        # print line\n",
    "        line = line.split(',')\n",
    "        line[len(line) - 1] = line[len(line) - 1].replace('\\n', '')\n",
    "        line = map(int, line)\n",
    "        test_array = np.append(test_array, np.array([line]), axis=0)\n",
    "    dir_array = source.split('/')\n",
    "    dir_name = dir_array[len(dir_array) - 1].split('_')\n",
    "    dir_image_file = DATA_PATH + '/data/Sagittal-segmentation/' + \\\n",
    "        dir_name[0] + '/' + dir_name[1] + '/' + \\\n",
    "            str(dir_name[2]).replace('txt', 'dcm')\n",
    "    medical_img = dicom.read_file(dir_image_file)\n",
    "    return medical_img, test_array\n"
   ]
  },
  {
   "cell_type": "code",
   "execution_count": 5,
   "metadata": {
    "collapsed": false
   },
   "outputs": [
    {
     "data": {
      "text/plain": [
       "(2319040, 1, 56, 28)"
      ]
     },
     "execution_count": 5,
     "metadata": {},
     "output_type": "execute_result"
    }
   ],
   "source": [
    "TRAIN_IN.shape"
   ]
  },
  {
   "cell_type": "code",
   "execution_count": 6,
   "metadata": {
    "collapsed": false
   },
   "outputs": [
    {
     "data": {
      "text/plain": [
       "array([[ 1.,  0.],\n",
       "       [ 1.,  0.],\n",
       "       [ 1.,  0.],\n",
       "       ..., \n",
       "       [ 1.,  0.],\n",
       "       [ 1.,  0.],\n",
       "       [ 1.,  0.]])"
      ]
     },
     "execution_count": 6,
     "metadata": {},
     "output_type": "execute_result"
    }
   ],
   "source": [
    "TRAIN_OUT"
   ]
  },
  {
   "cell_type": "code",
   "execution_count": 7,
   "metadata": {
    "collapsed": false
   },
   "outputs": [
    {
     "data": {
      "text/plain": [
       "array([[  5.12000000e+02,   3.84000000e+02,   5.85900000e-01,\n",
       "          5.85900000e-01],\n",
       "       [  5.12000000e+02,   3.84000000e+02,   5.85900000e-01,\n",
       "          5.85900000e-01],\n",
       "       [  5.12000000e+02,   3.84000000e+02,   5.85900000e-01,\n",
       "          5.85900000e-01],\n",
       "       [  5.12000000e+02,   3.84000000e+02,   5.85900000e-01,\n",
       "          5.85900000e-01],\n",
       "       [  5.12000000e+02,   3.84000000e+02,   5.85900000e-01,\n",
       "          5.85900000e-01],\n",
       "       [  5.12000000e+02,   3.84000000e+02,   5.85900000e-01,\n",
       "          5.85900000e-01],\n",
       "       [  3.84000000e+02,   2.88000000e+02,   7.29166687e-01,\n",
       "          7.29166687e-01],\n",
       "       [  3.84000000e+02,   2.88000000e+02,   7.29166687e-01,\n",
       "          7.29166687e-01],\n",
       "       [  3.84000000e+02,   2.88000000e+02,   7.29166687e-01,\n",
       "          7.29166687e-01],\n",
       "       [  5.12000000e+02,   3.84000000e+02,   5.46900000e-01,\n",
       "          5.46900000e-01],\n",
       "       [  5.12000000e+02,   3.84000000e+02,   5.46900000e-01,\n",
       "          5.46900000e-01],\n",
       "       [  5.12000000e+02,   3.84000000e+02,   5.46900000e-01,\n",
       "          5.46900000e-01],\n",
       "       [  5.12000000e+02,   3.84000000e+02,   5.46900000e-01,\n",
       "          5.46900000e-01],\n",
       "       [  5.12000000e+02,   3.84000000e+02,   5.46900000e-01,\n",
       "          5.46900000e-01],\n",
       "       [  6.40000000e+02,   4.80000000e+02,   5.62500000e-01,\n",
       "          5.62500000e-01],\n",
       "       [  6.40000000e+02,   4.80000000e+02,   5.62500000e-01,\n",
       "          5.62500000e-01],\n",
       "       [  6.40000000e+02,   4.80000000e+02,   5.62500000e-01,\n",
       "          5.62500000e-01],\n",
       "       [  6.40000000e+02,   4.80000000e+02,   5.62500000e-01,\n",
       "          5.62500000e-01],\n",
       "       [  6.40000000e+02,   4.80000000e+02,   5.62500000e-01,\n",
       "          5.62500000e-01],\n",
       "       [  3.84000000e+02,   2.88000000e+02,   7.29166687e-01,\n",
       "          7.29166687e-01],\n",
       "       [  3.84000000e+02,   2.88000000e+02,   7.29166687e-01,\n",
       "          7.29166687e-01],\n",
       "       [  3.84000000e+02,   2.88000000e+02,   7.29166687e-01,\n",
       "          7.29166687e-01]])"
      ]
     },
     "execution_count": 7,
     "metadata": {},
     "output_type": "execute_result"
    }
   ],
   "source": [
    "Resolution"
   ]
  },
  {
   "cell_type": "code",
   "execution_count": 4,
   "metadata": {
    "collapsed": false
   },
   "outputs": [
    {
     "data": {
      "text/plain": [
       "(0008, 0008) Image Type                          CS: ['ORIGINAL', 'PRIMARY', 'M', 'NORM', 'DIS2D', 'FM', 'FIL']\n",
       "(0008, 0012) Instance Creation Date              DA: '20090521'\n",
       "(0008, 0013) Instance Creation Time              TM: '130551.859000'\n",
       "(0008, 0016) SOP Class UID                       UI: MR Image Storage\n",
       "(0008, 0018) SOP Instance UID                    UI: 1.3.6.1.4.1.9590.100.1.2.141582010413708326808827334470320252517\n",
       "(0008, 0020) Study Date                          DA: '20090521'\n",
       "(0008, 0021) Series Date                         DA: '20090521'\n",
       "(0008, 0022) Acquisition Date                    DA: '20090521'\n",
       "(0008, 0023) Content Date                        DA: '20090521'\n",
       "(0008, 0030) Study Time                          TM: '125806.375000'\n",
       "(0008, 0031) Series Time                         TM: '130548.609000'\n",
       "(0008, 0032) Acquisition Time                    TM: '130446.967500'\n",
       "(0008, 0033) Content Time                        TM: '130551.859000'\n",
       "(0008, 0050) Accession Number                    SH: 'ZH090521MR2009'\n",
       "(0008, 0060) Modality                            CS: 'MR'\n",
       "(0008, 0070) Manufacturer                        LO: 'SIEMENS'\n",
       "(0008, 0080) Institution Name                    LO: ''\n",
       "(0008, 0081) Institution Address                 ST: ''\n",
       "(0008, 0090) Referring Physician's Name          PN: ''\n",
       "(0008, 1010) Station Name                        SH: 'MRC35183'\n",
       "(0008, 1030) Study Description                   LO: 'c-spine^general'\n",
       "(0008, 103e) Series Description                  LO: 't2_tse_rst_sag_TI 200ms_FIL'\n",
       "(0008, 1050) Performing Physician's Name         PN: '1279994'\n",
       "(0008, 1090) Manufacturer's Model Name           LO: 'TrioTim'\n",
       "(0010, 0010) Patient's Name                      PN: ''\n",
       "(0010, 0020) Patient ID                          LO: '841319'\n",
       "(0010, 0030) Patient's Birth Date                DA: '19760610'\n",
       "(0010, 0040) Patient's Sex                       CS: 'M'\n",
       "(0010, 1010) Patient's Age                       AS: '032Y'\n",
       "(0010, 1030) Patient's Weight                    DS: '90'\n",
       "(0018, 0020) Scanning Sequence                   CS: ['SE', 'IR']\n",
       "(0018, 0021) Sequence Variant                    CS: ['SK', 'SP', 'MP', 'OSP']\n",
       "(0018, 0022) Scan Options                        CS: 'IR'\n",
       "(0018, 0023) MR Acquisition Type                 CS: '2D'\n",
       "(0018, 0024) Sequence Name                       SH: '*tirR2d1rr29'\n",
       "(0018, 0025) Angio Flag                          CS: 'N'\n",
       "(0018, 0050) Slice Thickness                     DS: '3'\n",
       "(0018, 0080) Repetition Time                     DS: '3440'\n",
       "(0018, 0081) Echo Time                           DS: '102'\n",
       "(0018, 0083) Number of Averages                  DS: '2'\n",
       "(0018, 0084) Imaging Frequency                   DS: '123.253381'\n",
       "(0018, 0085) Imaged Nucleus                      SH: '1H'\n",
       "(0018, 0086) Echo Number(s)                      IS: '1'\n",
       "(0018, 0087) Magnetic Field Strength             DS: '3'\n",
       "(0018, 0088) Spacing Between Slices              DS: '3.3'\n",
       "(0018, 0089) Number of Phase Encoding Steps      IS: '523'\n",
       "(0018, 0091) Echo Train Length                   IS: '29'\n",
       "(0018, 0093) Percent Sampling                    DS: '67.9688'\n",
       "(0018, 0094) Percent Phase Field of View         DS: '100'\n",
       "(0018, 0095) Pixel Bandwidth                     DS: '320'\n",
       "(0018, 1000) Device Serial Number                LO: '35183'\n",
       "(0018, 1020) Software Version(s)                 LO: 'syngo MR B15'\n",
       "(0018, 1030) Protocol Name                       LO: 't2_tse_rst_sag_TI 200ms'\n",
       "(0018, 1251) Transmit Coil Name                  SH: 'Body'\n",
       "(0018, 1310) Acquisition Matrix                  US: [384, 0, 0, 261]\n",
       "(0018, 1312) In-plane Phase Encoding Direction   CS: 'COL'\n",
       "(0018, 1314) Flip Angle                          DS: '180'\n",
       "(0018, 1315) Variable Flip Angle Flag            CS: 'N'\n",
       "(0018, 1316) SAR                                 DS: '0.83792859920917'\n",
       "(0018, 1318) dB/dt                               DS: '0'\n",
       "(0018, 5100) Patient Position                    CS: 'HFS'\n",
       "(0020, 000d) Study Instance UID                  UI: 1279994\n",
       "(0020, 000e) Series Instance UID                 UI: 1.3.12.2.1107.5.2.32.35183.2009052113054843184978196.0.0.0\n",
       "(0020, 0010) Study ID                            SH: '773'\n",
       "(0020, 0011) Series Number                       IS: '4'\n",
       "(0020, 0012) Acquisition Number                  IS: '1'\n",
       "(0020, 0013) Instance Number                     IS: '10'\n",
       "(0020, 0032) Image Position (Patient)            DS: ['-0.0632834401209', '-157.58043515263', '101.4409126895']\n",
       "(0020, 0037) Image Orientation (Patient)         DS: ['0.0027114887006', '0.9848147530153', '0.173587298131', '0.0273617751231', '0.1734498787843', '-0.9844625299176']\n",
       "(0020, 0052) Frame of Reference UID              UI: 1.3.12.2.1107.5.2.32.35183.2.20090521125806609.0.0.0\n",
       "(0020, 1040) Position Reference Indicator        LO: ''\n",
       "(0020, 1041) Slice Location                      DS: '3.7915790063528'\n",
       "(0028, 0002) Samples per Pixel                   US: 1\n",
       "(0028, 0004) Photometric Interpretation          CS: 'MONOCHROME2'\n",
       "(0028, 0010) Rows                                US: 384\n",
       "(0028, 0011) Columns                             US: 384\n",
       "(0028, 0030) Pixel Spacing                       DS: ['0.72916668653488', '0.72916668653488']\n",
       "(0028, 0100) Bits Allocated                      US: 16\n",
       "(0028, 0101) Bits Stored                         US: 16\n",
       "(0028, 0102) High Bit                            US: 15\n",
       "(0028, 0103) Pixel Representation                US: 0\n",
       "(0028, 0106) Smallest Image Pixel Value          US: 0\n",
       "(0028, 0107) Largest Image Pixel Value           US: 1247\n",
       "(0028, 1050) Window Center                       DS: '266'\n",
       "(0028, 1051) Window Width                        DS: '661'\n",
       "(0040, 0244) Performed Procedure Step Start Date DA: '20090521'\n",
       "(0040, 0245) Performed Procedure Step Start Time TM: '125806.500000'\n",
       "(0040, 0253) Performed Procedure Step ID         SH: '4652'\n",
       "(0040, 0254) Performed Procedure Step Descriptio LO: 'MR C-spine PS+CE'\n",
       "(7fe0, 0010) Pixel Data                          OW: Array of 294912 bytes"
      ]
     },
     "execution_count": 4,
     "metadata": {},
     "output_type": "execute_result"
    }
   ],
   "source": [
    "med_img"
   ]
  },
  {
   "cell_type": "code",
   "execution_count": 14,
   "metadata": {
    "collapsed": false
   },
   "outputs": [
    {
     "data": {
      "text/plain": [
       "array([[ 0.001,  0.001,  0.001, ...,  0.001,  0.001,  0.001],\n",
       "       [ 0.001,  0.001,  0.001, ...,  0.001,  0.001,  0.001],\n",
       "       [ 0.001,  0.001,  0.001, ...,  0.001,  0.001,  0.001],\n",
       "       ..., \n",
       "       [ 0.001,  0.001,  0.001, ...,  0.001,  0.001,  0.001],\n",
       "       [ 0.001,  0.001,  0.001, ...,  0.001,  0.001,  0.001],\n",
       "       [ 0.001,  0.001,  0.001, ...,  0.001,  0.001,  0.001]])"
      ]
     },
     "execution_count": 14,
     "metadata": {},
     "output_type": "execute_result"
    }
   ],
   "source": [
    "cropImg2"
   ]
  },
  {
   "cell_type": "code",
   "execution_count": 18,
   "metadata": {
    "collapsed": false
   },
   "outputs": [
    {
     "data": {
      "text/plain": [
       "(766656, 2)"
      ]
     },
     "execution_count": 18,
     "metadata": {},
     "output_type": "execute_result"
    }
   ],
   "source": [
    "TRAIN_OUT.shape"
   ]
  },
  {
   "cell_type": "code",
   "execution_count": 90,
   "metadata": {
    "collapsed": false
   },
   "outputs": [],
   "source": [
    "import cv2\n",
    "import numpy as np\n",
    "import os\n",
    "import dicom\n",
    "import data\n",
    "import copy\n",
    "from keras.models import Sequential\n",
    "from keras.layers import Dense, Dropout, Activation, Flatten\n",
    "from keras.layers import Convolution2D, MaxPooling2D\n",
    "from keras.utils import np_utils\n",
    "from scipy import ndimage\n",
    "from keras.optimizers import SGD\n",
    "from keras.utils import np_utils\n",
    "from skimage.morphology import remove_small_objects\n",
    "from scipy import ndimage\n",
    "from sklearn import metrics, metrics\n",
    "from scipy.ndimage.measurements import label\n",
    "\n",
    "\n",
    "def getPara(predict, true, threshold, resolution):\n",
    "    (TP, FP, TN, FN, class_lable) = perf_measure(true, predict, threshold)\n",
    "    if((TP + FN) == 0):\n",
    "        TPR = 0\n",
    "    else:\n",
    "        TPR = np.float(TP) / (TP + FN)\n",
    "\n",
    "    class_lable = class_lable.astype(\n",
    "        bool).reshape(320 ,  160)\n",
    "    true = true.astype(bool).reshape(320 , 160)\n",
    "\n",
    "    predict2 = remove_small_objects(class_lable, 160 * resolution, in_place=False)\n",
    "    labeled_array1, num_features1 = label(predict2)\n",
    "    labeled_array2, num_features2 = label(true)\n",
    "    FP_num = num_features1 - num_features2\n",
    "    if FP_num < 0:\n",
    "        FP_num = 0\n",
    "    return TPR, FP_num\n",
    "\n",
    "\n",
    "def perf_measure(y_actual, predict, threshold):\n",
    "    TP = 0\n",
    "    FP = 0\n",
    "    TN = 0\n",
    "    FN = 0\n",
    "    predict = transfer_prob(predict, threshold)\n",
    "    for i in range(len(predict)):\n",
    "        if y_actual[i] == predict[i] == 1:\n",
    "            TP += 1\n",
    "    for i in range(len(predict)):\n",
    "        if y_actual[i] == 0 and y_actual[i] != predict[i]:\n",
    "            FP += 1\n",
    "    for i in range(len(predict)):\n",
    "        if y_actual[i] == predict[i] == 0:\n",
    "            TN += 1\n",
    "    for i in range(len(predict)):\n",
    "        if y_actual[i] == 1 and y_actual[i] != predict[i]:\n",
    "            FN += 1\n",
    "\n",
    "    return(TP, FP, TN, FN, predict)\n",
    "\n",
    "\n",
    "def transfer_prob(y_score, threshold):\n",
    "    y_result = []\n",
    "    for i in range(len(y_score)):\n",
    "        if y_score[i] >= threshold:\n",
    "            y_result.append(1)\n",
    "        else:\n",
    "            y_result.append(0)\n",
    "    return np.asarray(y_result)\n",
    "\n",
    "\n"
   ]
  },
  {
   "cell_type": "code",
   "execution_count": 178,
   "metadata": {
    "collapsed": true
   },
   "outputs": [],
   "source": [
    "y_score = np.load('./resolution/predicted_image.npy')\n",
    "y_true = np.load('./resolution/answer_image.npy')\n",
    "reso = np.load('./resolution/resolution.npy')\n",
    "\n",
    "y_score = y_score[0:y_score.shape[0], 1]\n",
    "y_true = y_true[0:y_true.shape[0], 1]\n",
    "\n",
    "scores = []\n",
    "trues = []\n",
    "next_start = 0\n",
    "for i in range(len(reso)):\n",
    "    ysize = 264\n",
    "    xsize = 132\n",
    "    scores.append(y_score[next_start: next_start + np.int(ysize * xsize)])\n",
    "    trues.append(y_true[next_start: next_start + np.int(ysize * xsize)])\n",
    "    next_start = np.int(next_start + ysize * xsize)\n",
    "\n",
    "\n",
    "y_score = np.asarray(scores)\n",
    "y_true = np.asarray(trues)\n"
   ]
  },
  {
   "cell_type": "code",
   "execution_count": 179,
   "metadata": {
    "collapsed": false
   },
   "outputs": [
    {
     "data": {
      "text/plain": [
       "array([[ 0.,  0.,  0., ...,  0.,  0.,  0.],\n",
       "       [ 0.,  0.,  0., ...,  0.,  0.,  0.],\n",
       "       [ 0.,  0.,  0., ...,  0.,  0.,  0.],\n",
       "       ..., \n",
       "       [ 0.,  0.,  0., ...,  0.,  0.,  0.],\n",
       "       [ 0.,  0.,  0., ...,  0.,  0.,  0.],\n",
       "       [ 0.,  0.,  0., ...,  0.,  0.,  0.]])"
      ]
     },
     "execution_count": 179,
     "metadata": {},
     "output_type": "execute_result"
    }
   ],
   "source": [
    "y_true"
   ]
  },
  {
   "cell_type": "code",
   "execution_count": 219,
   "metadata": {
    "collapsed": false
   },
   "outputs": [],
   "source": [
    "tmp2 = y_score[9].reshape(264, 132)"
   ]
  },
  {
   "cell_type": "code",
   "execution_count": 217,
   "metadata": {
    "collapsed": false
   },
   "outputs": [],
   "source": [
    "import matplotlib.pyplot as plt\n",
    "%matplotlib inline\n",
    "from scipy.ndimage.morphology import binary_erosion, binary_dilation"
   ]
  },
  {
   "cell_type": "code",
   "execution_count": 234,
   "metadata": {
    "collapsed": false
   },
   "outputs": [
    {
     "data": {
      "text/plain": [
       "<matplotlib.image.AxesImage at 0x11dbb9090>"
      ]
     },
     "execution_count": 234,
     "metadata": {},
     "output_type": "execute_result"
    },
    {
     "data": {
      "image/png": "[encoded data removed]",
      "text/plain": [
       "<matplotlib.figure.Figure at 0x11db3e090>"
      ]
     },
     "metadata": {},
     "output_type": "display_data"
    }
   ],
   "source": [
    "tmp2 = tmp2>0.1\n",
    "\n",
    "num = 2\n",
    "x = np.arange( -num , num+1, 1)\n",
    "xx, yy  = np.meshgrid( x, x )\n",
    "struc = (xx * xx + yy * yy)<= num * num\n",
    "tmp2 = binary_dilation(tmp2, struc)\n",
    "tmp2 = binary_erosion(tmp2, struc)\n",
    "plt.imshow(tmp2>0.1,'gray')\n"
   ]
  },
  {
   "cell_type": "code",
   "execution_count": 233,
   "metadata": {
    "collapsed": false
   },
   "outputs": [
    {
     "data": {
      "text/plain": [
       "array([[False, False,  True, False, False],\n",
       "       [False,  True,  True,  True, False],\n",
       "       [ True,  True,  True,  True,  True],\n",
       "       [False,  True,  True,  True, False],\n",
       "       [False, False,  True, False, False]], dtype=bool)"
      ]
     },
     "execution_count": 233,
     "metadata": {},
     "output_type": "execute_result"
    }
   ],
   "source": [
    "struc"
   ]
  },
  {
   "cell_type": "code",
   "execution_count": 197,
   "metadata": {
    "collapsed": false
   },
   "outputs": [
    {
     "data": {
      "text/plain": [
       "<matplotlib.image.AxesImage at 0x11bd739d0>"
      ]
     },
     "execution_count": 197,
     "metadata": {},
     "output_type": "execute_result"
    },
    {
     "data": {
      "image/png": "[encoded data removed]",
      "text/plain": [
       "<matplotlib.figure.Figure at 0x11bbe5b50>"
      ]
     },
     "metadata": {},
     "output_type": "display_data"
    }
   ],
   "source": [
    "tmp = y_true[9].reshape(264, 132)\n",
    "plt.imshow(tmp,'gray')"
   ]
  },
  {
   "cell_type": "code",
   "execution_count": 86,
   "metadata": {
    "collapsed": false
   },
   "outputs": [],
   "source": [
    "out = TRAIN_OUT[0:TRAIN_OUT.shape[0], 1]"
   ]
  },
  {
   "cell_type": "code",
   "execution_count": 87,
   "metadata": {
    "collapsed": false
   },
   "outputs": [],
   "source": [
    "o = []\n",
    "next_start = 0\n",
    "ysize = 264\n",
    "xsize = 132\n",
    "for i in range((22)):\n",
    "    o.append(out[next_start: next_start + np.int(ysize * xsize)])\n",
    "    next_start = np.int(next_start + ysize * xsize)"
   ]
  },
  {
   "cell_type": "code",
   "execution_count": 163,
   "metadata": {
    "collapsed": false
   },
   "outputs": [
    {
     "name": "stdout",
     "output_type": "stream",
     "text": [
      "Processed images:1.Positive num:911.Total size:34848\n",
      "Processed images:2.Positive num:1854.Total size:69696\n",
      "Processed images:3.Positive num:2830.Total size:104544\n",
      "Processed images:4.Positive num:3771.Total size:139392\n",
      "Processed images:5.Positive num:4690.Total size:174240\n",
      "Processed images:6.Positive num:5540.Total size:209088\n",
      "Processed images:7.Positive num:5555.Total size:243936\n",
      "Processed images:8.Positive num:5567.Total size:278784\n",
      "Processed images:9.Positive num:5578.Total size:313632\n",
      "Processed images:10.Positive num:5873.Total size:348480\n",
      "Processed images:11.Positive num:6156.Total size:383328\n",
      "Processed images:12.Positive num:6386.Total size:418176\n",
      "Processed images:13.Positive num:6642.Total size:453024\n",
      "Processed images:14.Positive num:6942.Total size:487872\n",
      "Processed images:15.Positive num:7540.Total size:522720\n",
      "Processed images:16.Positive num:8055.Total size:557568\n",
      "Processed images:17.Positive num:8546.Total size:592416\n",
      "Processed images:18.Positive num:9023.Total size:627264\n",
      "Processed images:19.Positive num:9554.Total size:662112\n",
      "Processed images:20.Positive num:9562.Total size:696960\n",
      "Processed images:21.Positive num:9575.Total size:731808\n",
      "Processed images:22.Positive num:9588.Total size:766656\n"
     ]
    }
   ],
   "source": [
    "    count_img = 0\n",
    "    count = 0\n",
    "    index = 0\n",
    "    count_pos = 0\n",
    "    class_lable = 2\n",
    "    x_start = RECEP_WEI\n",
    "    y_start = RECEP_HEI\n",
    "\n",
    "    TRAIN_DATA_TXT_PATH = DATA_PATH + MODE_TEST_PATH\n",
    "    IMG_LIST = os.listdir(TRAIN_DATA_TXT_PATH)\n",
    "    TRAIN_NUM = len(IMG_LIST)\n",
    "    TRAIN_OUT = []\n",
    "    TRAIN_IN = []\n",
    "    Resolution = []\n",
    "    for name in IMG_LIST:\n",
    "\n",
    "        med_img, test_array = get_input_and_output(TRAIN_DATA_TXT_PATH + '/' + name)\n",
    "        med_img_pix = cv2.resize(med_img.pixel_array, (320, 320), interpolation=cv2.INTER_AREA)\n",
    "        test_array = test_array + 0.001\n",
    "        test_array = cv2.resize(test_array, (320, 320), interpolation=cv2.INTER_AREA)\n",
    "\n",
    "\n",
    "        cropImg1 = med_img_pix[0:320, 320/ 4: 3 * 320 / 4]\n",
    "        cropImg2 = test_array[0:320, 320 / 4: 3 * 320 / 4]\n",
    "\n",
    "        Resolution.append( med_img.PixelSpacing[0]* med_img.Rows / np.float(320) )\n",
    "        y_max = 320\n",
    "        x_max = 320 / 2\n",
    "\n",
    "        for i in range(y_start, y_max):\n",
    "            for m in range(x_start, x_max):\n",
    "                region = cropImg1[i - RECEP_HEI: i, m - RECEP_WEI: m]\n",
    "                class_lable = cropImg2[i - RECEP_HEI / 2][m - RECEP_WEI / 2]\n",
    "                if(class_lable != 1.001 ):\n",
    "                    TRAIN_IN.append(region.reshape(1, RECEP_HEI, RECEP_WEI))\n",
    "                    TRAIN_OUT.append(np_utils.to_categorical([0], nb_classes)[0])\n",
    "                    index += 1\n",
    "                    # print(index)\n",
    "\n",
    "                elif (class_lable == 1.001):\n",
    "                    TRAIN_IN.append(region.reshape(1, RECEP_HEI, RECEP_WEI))\n",
    "                    TRAIN_OUT.append(np_utils.to_categorical([1], nb_classes)[0])\n",
    "                    count_pos += 1\n",
    "                    index += 1\n",
    "                    # print(index)\n",
    "\n",
    "                count += 1\n",
    "        if(index % 1000 == 0):\n",
    "                print('Processed training set:' + str(index))\n",
    "\n",
    "        count_img += 1\n",
    "        print('Processed images:' + str(count_img) + '.Positive num:' +\n",
    "              str(count_pos) + '.Total size:' + str(index))\n",
    "    TRAIN_IN = np.asarray(TRAIN_IN, dtype=np.float)\n",
    "    TRAIN_OUT = np.asarray(TRAIN_OUT, dtype=np.float)\n",
    "    Resolution = np.asarray(Resolution)"
   ]
  },
  {
   "cell_type": "code",
   "execution_count": 165,
   "metadata": {
    "collapsed": false
   },
   "outputs": [],
   "source": [
    "TRAIN_OUT = TRAIN_OUT[0:TRAIN_OUT.shape[0], 1]"
   ]
  },
  {
   "cell_type": "code",
   "execution_count": 170,
   "metadata": {
    "collapsed": false
   },
   "outputs": [],
   "source": [
    "tmp = TRAIN_OUT[0:34848]"
   ]
  },
  {
   "cell_type": "code",
   "execution_count": null,
   "metadata": {
    "collapsed": true
   },
   "outputs": [],
   "source": []
  }
 ],
 "metadata": {
  "kernelspec": {
   "display_name": "Python 2",
   "language": "python",
   "name": "python2"
  },
  "language_info": {
   "codemirror_mode": {
    "name": "ipython",
    "version": 2
   },
   "file_extension": ".py",
   "mimetype": "text/x-python",
   "name": "python",
   "nbconvert_exporter": "python",
   "pygments_lexer": "ipython2",
   "version": "2.7.11"
  }
 },
 "nbformat": 4,
 "nbformat_minor": 0
}
